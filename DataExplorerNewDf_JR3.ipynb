{
 "cells": [
  {
   "cell_type": "code",
   "execution_count": null,
   "metadata": {},
   "outputs": [],
   "source": [
    "import pandas as pd\n",
    "import requests\n",
    "from bs4 import BeautifulSoup\n",
    "import time\n",
    "import random\n",
    "# import to iterate through'owners' dictionary populated with owner objects\n",
    "from itertools import islice\n",
    "import re # used to split the city state and zip_code into seperate variables\n",
    "from selenium import webdriver\n",
    "from selenium.webdriver.chrome.options import Options\n",
    "from selenium.webdriver.common.by import By\n",
    "from selenium.webdriver.support.ui import WebDriverWait\n",
    "from selenium.webdriver.support import expected_conditions as EC\n",
    "from selenium.common.exceptions import TimeoutException, StaleElementReferenceException"
   ]
  },
  {
   "cell_type": "code",
   "execution_count": null,
   "metadata": {},
   "outputs": [],
   "source": [
    "# make new dataframe from data read in from first row of csv file \n",
    "df_row_names = pd.read_csv('../Data/MineralData.CSV', encoding='Latin-1', low_memory=False)"
   ]
  },
  {
   "cell_type": "code",
   "execution_count": null,
   "metadata": {},
   "outputs": [],
   "source": [
    "# make new dataframe and read in the rest of the data from CVS file \n",
    "df = pd.read_csv('../Data/MineralData.CSV', encoding=\"Latin-1\",low_memory=False, skiprows=1,header=None)"
   ]
  },
  {
   "cell_type": "code",
   "execution_count": null,
   "metadata": {},
   "outputs": [],
   "source": [
    "# make the contents of the dataframe df_row_names the column labels of newDF \n",
    "column_names = df_row_names.columns[0]\n",
    "column_name_string = [x for x in column_names.split('\"') if len(x) > 1]"
   ]
  },
  {
   "cell_type": "code",
   "execution_count": null,
   "metadata": {},
   "outputs": [],
   "source": [
    "# print number of columns\n",
    "len(column_name_string)\n",
    "\n",
    "# print all 137 column names \n",
    "for x in column_name_string:\n",
    "    print(x)"
   ]
  },
  {
   "cell_type": "code",
   "execution_count": null,
   "metadata": {},
   "outputs": [],
   "source": [
    "# create new dataframe, newDf, with column_names for column titles and contents in df\n",
    "newDF = pd.DataFrame(data=df.values,columns=column_name_string)"
   ]
  },
  {
   "cell_type": "code",
   "execution_count": null,
   "metadata": {
    "scrolled": true
   },
   "outputs": [],
   "source": [
    "# print new data frame first 5 rows\n",
    "newDF.head()"
   ]
  },
  {
   "cell_type": "markdown",
   "metadata": {},
   "source": [
    "WEll attributes: \n",
    "YEAR LEASE STARTED\n",
    "DECIMAL INTEREST\n",
    "LEASE NAME\n",
    "OPER NAME\n",
    "DESCRIPTION 1\n",
    "DESCRIPTION 2\n",
    "IN CARE OF\n",
    "ACRES\n",
    "LEASE NUMBER\n",
    "EXEMPT CODE\n",
    "CUSTOMER GEO#\n",
    "TCEQ VALUE-POLUTION CNTL\n",
    "MINERAL ACCOUNT NUMBER\n",
    "MINERAL ACCOUNT SEQUENCE #\n",
    "PREVIOUS MIN ACCT SEQ #\n",
    "PREVIOUS MIN ACCOUNT #\n",
    "PRIVACY CODE\n",
    "COMPLIANCE CODE\n",
    "JUR 1 TAXABLE VALUE # sum this for the owner"
   ]
  },
  {
   "cell_type": "code",
   "execution_count": null,
   "metadata": {},
   "outputs": [],
   "source": [
    "# new owner and well objects with correct city state zip\n",
    "\n",
    "# create Owner and well objects\n",
    "# store Owner objects in a list called owners\n",
    "class Owner:\n",
    "    def __init__(self, name, owner_number, address, city, state, zip_code):\n",
    "        self.name = name\n",
    "        self.number = owner_number\n",
    "        self.address = address\n",
    "        self.city = city\n",
    "        self.state = state\n",
    "        self.zip_code = zip_code\n",
    "        self.total_value = 0\n",
    "        self.num_wells = 0\n",
    "        self.wells = []\n",
    "        # Split name into first, middle and last name\n",
    "        self.first_name, self.middle_name, self.last_name = self._split_name(name)\n",
    "        #self.legacy_dead = \"\"\n",
    "\n",
    "    def update_wells_info(self):\n",
    "        self.num_wells = len(self.wells)\n",
    "        self.total_value = sum(well.value for well in self.wells)\n",
    "\n",
    "    def add_well(self, well):\n",
    "        self.wells.append(well)\n",
    "        self.num_wells += 1\n",
    "        self.total_value += well.value\n",
    "        \n",
    "    def associate_personal_info(self, personal_info):\n",
    "        self.personal_info = personal_info\n",
    "        \n",
    "    def _split_name(self, name):\n",
    "        first_name = \"\"\n",
    "        last_name = \"\"\n",
    "        middle_name = \"\"\n",
    "        if not any(word in name for word in [\"LLC\", \"LTD\", \"CO\", \"COMPANY\", \"INC\", \"INVESTMENTS\", \"FAMILY\", \"&\"]):\n",
    "            # other weird names: PIPELINE ABSOLUTE\n",
    "            num_spaces = name.count(\" \")\n",
    "            if num_spaces == 1:\n",
    "                last_name, first_name = name.split(\" \")\n",
    "            elif num_spaces >= 2: # this means there are 3 names\n",
    "                name_parts = name.split(\" \")\n",
    "                last_name = name_parts[0]\n",
    "                if len(name_parts[1]) > len(name_parts[2]):\n",
    "                    first_name = name_parts[1]\n",
    "                    middle_name = name_parts[2]\n",
    "                elif len(name_parts[2]) > len(name_parts[1]):\n",
    "                    first_name = name_parts[2]\n",
    "                    middle_name = name_parts[1]\n",
    "            return first_name, middle_name, last_name\n",
    "        else:\n",
    "            return \"\", \"\", \"\"\n",
    "\n",
    "class Well:\n",
    "    def __init__(self, yr_lease_start, dec_int, lease_name, lease_num, oper_name, desc1, desc2, ico, acres, ex_code, cust_geo, tceq, min_acct_num, min_acct_seq, prev_min_acct_seq, prev_min_acct_num, priv_code, comp_code, value):\n",
    "        self.yr_lease_start = yr_lease_start\n",
    "        self.dec_int = dec_int\n",
    "        self.lease_name = lease_name\n",
    "        self.lease_num = lease_num\n",
    "        self.oper_name = oper_name\n",
    "        self.desc1 = desc1\n",
    "        self.desc2 = desc2\n",
    "        self.ico = ico\n",
    "        self.acres = acres\n",
    "        self.ex_code = ex_code\n",
    "        self.cust_geo = cust_geo\n",
    "        self.tceq = tceq\n",
    "        self.min_acct_num = min_acct_num\n",
    "        self.min_acct_seq = min_acct_seq\n",
    "        self.prev_min_acct_seq = prev_min_acct_seq\n",
    "        self.prev_min_acct_num = prev_min_acct_num\n",
    "        self.priv_code = priv_code\n",
    "        self.comp_code = comp_code\n",
    "        self.value = value\n",
    "\n",
    "class PersonalInfo:\n",
    "    def __init__(self, first_name, middle_name, last_name, age, birth_date, death_date, location):\n",
    "        self.first_name = first_name\n",
    "        self.middle_name = middle_name\n",
    "        self.last_name = last_name\n",
    "        self.age = age\n",
    "        self.birth_date = birth_date\n",
    "        self.death_date = death_date\n",
    "        self.location = location\n",
    "\n",
    "owners = {}  # Dictionary to store owner objects\n",
    "\n",
    "owner_name_col = newDF[\"OWNER NAME\"]\n",
    "owner_number_col = newDF[\"OWNER NUMBER\"]\n",
    "st_address_col = newDF[\"STREET ADDRESS\"]\n",
    "city_st_zip_col = newDF[\"CITY, STATE, AND ZIP\"]\n",
    "\n",
    "yr_lease_start_col = newDF[\"YEAR LEASE STARTED\"]\n",
    "dec_int_col = newDF[\"DECIMAL INTEREST\"]\n",
    "lease_name_col = newDF[\"LEASE NAME\"]\n",
    "lease_num_col = newDF[\"LEASE NUMBER\"]\n",
    "oper_name_col = newDF[\"OPER NAME\"]\n",
    "desc1_col = newDF[\"DESCRIPTION 1\"]\n",
    "desc2_col = newDF[\"DESCRIPTION 2\"]\n",
    "ico_col = newDF[\"IN CARE OF\"]\n",
    "acres_col = newDF[\"ACRES\"]\n",
    "ex_code_col = newDF[\"EXEMPT CODE\"]\n",
    "cust_geo_col = newDF[\"CUSTOMER GEO#\"]\n",
    "tceq_col = newDF[\"TCEQ VALUE-POLUTION CNTL\"]\n",
    "min_acct_num_col = newDF[\"MINERAL ACCOUNT NUMBER\"]\n",
    "min_acct_seq_col = newDF[\"MINERAL ACCOUNT SEQUENCE #\"]\n",
    "prev_min_acct_seq_col = newDF[\"PREVIOUS MIN ACCT SEQ #\"]\n",
    "prev_min_acct_num_col = newDF[\"PREVIOUS MIN ACCOUNT #\"]\n",
    "priv_code_col = newDF[\"PRIVACY CODE\"]\n",
    "comp_code_col = newDF[\"COMPLIANCE CODE\"]\n",
    "value_col = newDF[\"JUR 1 TAXABLE VALUE\"]\n",
    "\n",
    "# Iterate over the wells columns\n",
    "for name, number, address, city_st_zip, yr_lease_start, dec_int, lease_name, lease_num, oper_name, desc1, desc2, ico, acres, ex_code, cust_geo, tceq, min_acct_num, min_acct_seq, prev_min_acct_seq, prev_min_acct_num, priv_code, comp_code, value in zip(owner_name_col, owner_number_col, st_address_col, city_st_zip_col, yr_lease_start_col, dec_int_col, lease_name_col, lease_num_col, oper_name_col, desc1_col, desc2_col, ico_col, acres_col, ex_code_col, cust_geo_col, tceq_col, min_acct_num_col, min_acct_seq_col, prev_min_acct_seq_col, prev_min_acct_num_col, priv_code_col, comp_code_col, value_col):\n",
    "\n",
    "    # Check if the city_st_zip contains a comma\n",
    "    match = re.search(r\"(\\w+)\\s+(\\w{2})(\\d+)\", city_st_zip)\n",
    "    if match:\n",
    "        city_st_zip = match.group(1)\n",
    "        state = match.group(2)\n",
    "        zip_code = match.group(3)\n",
    "    else:\n",
    "        # If no match is found, set all values to None\n",
    "        city_st_zip, state, zip_code = None, None, None\n",
    "    \n",
    "    # Create a new well object\n",
    "    well = Well(yr_lease_start, dec_int, lease_name, lease_num, oper_name, desc1, desc2, ico, acres, ex_code, cust_geo, tceq, min_acct_num, min_acct_seq, prev_min_acct_seq, prev_min_acct_num, priv_code, comp_code, value)\n",
    "\n",
    "    # Get the owner object from the dictionary if it exists, otherwise create a new owner\n",
    "    owner = owners.get(name)\n",
    "    if not owner:\n",
    "        owner = Owner(name, number, address, city_st_zip, state, zip_code)\n",
    "        owners[name] = owner\n",
    "\n",
    "    # Create a new PersonalInfo object\n",
    "    personal_info = PersonalInfo(\n",
    "        owner.first_name,\n",
    "        owner.middle_name,\n",
    "        owner.last_name,\n",
    "        0,                 # Placeholder for age (could be 0 or any other value)\n",
    "        None,              # Placeholder for birth_date\n",
    "        None,              # Placeholder for death_date\n",
    "        owner.city         # Replace with the actual location value\n",
    "    )\n",
    "    \n",
    "    owner.associate_personal_info(personal_info)  # Associate the personal_info object with the owner\n",
    "    owner.add_well(well)  # Add well to the owner object\n",
    "    owner.update_wells_info()  # Update the wells information\n"
   ]
  },
  {
   "cell_type": "markdown",
   "metadata": {},
   "source": [
    "# Structure and contents of an owner object: \n",
    "\n",
    "Owner Name: A E D INVESTMENTS LLC         \n",
    "Owner Number: 807262\n",
    "Address: 333 TEXAS ST, STE 1525        \n",
    "City: SHREVEPORT\n",
    "State: LA\n",
    "Zip Code: 71101\n",
    "Total Value: 13310\n",
    "Number of Wells: 33\n",
    "Owner's Personal Information:\n",
    "- First Name: N/A\n",
    "- Middle Name: N/A\n",
    "- Last Name: N/A\n",
    "- Age: N/A\n",
    "- Birth Date: N/A\n",
    "- Death Date: N/A\n",
    "Owner's Wells:\n",
    "- Lease Name: BOX GAS UNIT #1               \n",
    "  Lease Number: 20685\n",
    "- Lease Name: PORTER #1                     \n",
    "  Lease Number: 40770\n",
    "- Lease Name: HEMBY GU (1)                  \n",
    "  Lease Number: 44231\n",
    "- Lease Name: PORTER #2                     \n",
    "  Lease Number: 44243\n",
    "Personal Info:\n",
    "- First name\n",
    "- Middle Name\n",
    "- Last name\n",
    "- Age\n",
    "- Birth date\n",
    "- Death date\n",
    "- Location"
   ]
  },
  {
   "cell_type": "markdown",
   "metadata": {},
   "source": []
  },
  {
   "cell_type": "code",
   "execution_count": null,
   "metadata": {},
   "outputs": [],
   "source": [
    "num_owners = len(owners)\n",
    "print(\"Number of owners (owner objects):\", num_owners)"
   ]
  },
  {
   "cell_type": "code",
   "execution_count": null,
   "metadata": {},
   "outputs": [],
   "source": [
    "# Convert dict_values of owners to a list and slice all owners\n",
    "owners_list = list(owners.values())"
   ]
  },
  {
   "cell_type": "code",
   "execution_count": null,
   "metadata": {},
   "outputs": [],
   "source": [
    "# people_owners: owner objects that have a first and last name and are therefore people \n",
    "people_owners = [owner for owner in owners_list if owner.first_name != \"\" and owner.last_name != \"\"]"
   ]
  },
  {
   "cell_type": "code",
   "execution_count": null,
   "metadata": {},
   "outputs": [],
   "source": [
    "# Convert dict_values to a list and slice all owners\n",
    "people_owners_list = people_owners\n",
    "print(\"People owners: \", len(people_owners))"
   ]
  },
  {
   "cell_type": "code",
   "execution_count": null,
   "metadata": {},
   "outputs": [],
   "source": [
    "# company_owners: owner objects that DONT have either a first or last name -> therefore company names \n",
    "company_owners = [owner for owner in owners_list if owner.first_name == \"\" or owner.last_name == \"\"]\n",
    "\n",
    "company_owners_list = company_owners"
   ]
  },
  {
   "cell_type": "code",
   "execution_count": null,
   "metadata": {},
   "outputs": [],
   "source": [
    "print(\"Total owner objects: \", len(owners))\n",
    "print(\"People owners: \", len(people_owners))\n",
    "print(\"Company owners: \", len(company_owners))"
   ]
  },
  {
   "cell_type": "markdown",
   "metadata": {},
   "source": [
    "________________________\n",
    "People Finder Search:\n",
    "________________________"
   ]
  },
  {
   "cell_type": "code",
   "execution_count": null,
   "metadata": {},
   "outputs": [],
   "source": [
    "pip install pyppeteer\n"
   ]
  },
  {
   "cell_type": "code",
   "execution_count": null,
   "metadata": {},
   "outputs": [],
   "source": [
    "pip install nest_asyncio\n"
   ]
  },
  {
   "cell_type": "code",
   "execution_count": null,
   "metadata": {},
   "outputs": [],
   "source": [
    "# JUST JOCELYN SEARCH \n",
    "import asyncio\n",
    "import nest_asyncio\n",
    "from pyppeteer import launch\n",
    "\n",
    "nest_asyncio.apply()  # Apply nest_asyncio to allow running asyncio in Jupyter\n",
    "\n",
    "async def people_finder_search(firstName, lastName, city, state):\n",
    "    PROXY_USERNAME = 'scraperapi'\n",
    "    PROXY_PASSWORD = '27b22388a69f09fa1c94117e631357e7'\n",
    "    PROXY_SERVER = 'proxy-server.scraperapi.com'\n",
    "    PROXY_SERVER_PORT = '8001'\n",
    "\n",
    "    browser = await launch(headless=False, ignoreHTTPSErrors=True, args=[f'--proxy-server=http://{PROXY_SERVER}:{PROXY_SERVER_PORT}'])\n",
    "    page = await browser.newPage()\n",
    "\n",
    "    await page.authenticate({'username': PROXY_USERNAME, 'password': PROXY_PASSWORD})\n",
    "\n",
    "    try:\n",
    "        search_url = f'https://www.intelius.com/results/?firstName={firstName}&lastName={lastName}&city={city}&state={state}'\n",
    "        await page.goto(search_url, {'timeout': 180000})\n",
    "\n",
    "        await page.waitForSelector('#people', {'timeout': 30000})\n",
    "\n",
    "        await asyncio.sleep(2)\n",
    "\n",
    "        name = await page.evaluate('document.querySelector(\"#people > div > div > ul > li.name\").textContent.trim()')\n",
    "        age = await page.evaluate('document.querySelector(\"#people > div > div > ul > li.age\").textContent.trim()')\n",
    "        location = await page.evaluate('document.querySelector(\"#people > div > div > ul > li.location\").textContent.trim()')\n",
    "\n",
    "        result = {'name': name, 'age': age, 'location': location}\n",
    "        print(result)\n",
    "\n",
    "    finally:\n",
    "        await browser.close()\n",
    "\n",
    "# Create an event loop\n",
    "loop = asyncio.get_event_loop()\n",
    "\n",
    "# Call the function with your search parameters using the event loop\n",
    "loop.run_until_complete(people_finder_search('Jocelyn', 'Rupp', 'pheonix', 'AZ'))\n",
    "\n",
    "# Close the event loop\n",
    "loop.close()"
   ]
  },
  {
   "cell_type": "code",
   "execution_count": null,
   "metadata": {},
   "outputs": [],
   "source": [
    "# SEARCH FOR FIRST 5 PEOPLE OWNERS\n",
    "import asyncio\n",
    "import nest_asyncio\n",
    "from pyppeteer import launch\n",
    "\n",
    "nest_asyncio.apply()  # Apply nest_asyncio to allow running asyncio in Jupyter\n",
    "\n",
    "# Define people_finder_search function \n",
    "async def people_finder_search(firstName, lastName, city, state):\n",
    "    PROXY_SERVER = 'proxy-server.scraperapi.com'\n",
    "    PROXY_SERVER_PORT = '8001'\n",
    "\n",
    "    browser = await launch(headless=False, ignoreHTTPSErrors=True, args=[f'--proxy-server=http://{PROXY_SERVER}:{PROXY_SERVER_PORT}'])\n",
    "    page = await browser.newPage()\n",
    "\n",
    "    await page.authenticate({'username': PROXY_USERNAME, 'password': PROXY_PASSWORD})\n",
    "\n",
    "    try:\n",
    "        search_url = f'https://www.intelius.com/results/?firstName={firstName}&lastName={lastName}&city={city}&state={state}'\n",
    "        await page.goto(search_url, {'timeout': 180000})\n",
    "\n",
    "        # implementation to handle pop-ups on result page\n",
    "        # Wait for the pop-up to appear by selecting the pop-up's specific element\n",
    "        #try:\n",
    "        #    await page.waitForSelector('#popup-element', {'timeout': 10000})\n",
    "        #    await page.click('#popup-element')  # Click the element to interact with the pop-up\n",
    "        #except:\n",
    "        #    pass  # If pop-up doesn't appear, continue scraping\n",
    "\n",
    "        await page.waitForSelector('#people', {'timeout': 30000})\n",
    "\n",
    "        await asyncio.sleep(2)\n",
    "\n",
    "        name = await page.evaluate('document.querySelector(\"#people > div > div > ul > li.name\").textContent.trim()')\n",
    "        age = await page.evaluate('document.querySelector(\"#people > div > div > ul > li.age\").textContent.trim()')\n",
    "        location = await page.evaluate('document.querySelector(\"#people > div > div > ul > li.location\").textContent.trim()')\n",
    "\n",
    "        result = {'name': name, 'age': age, 'location': location}\n",
    "        print(result)\n",
    "\n",
    "    finally:\n",
    "        await browser.close()\n",
    "\n",
    "# Create an event loop\n",
    "loop = asyncio.get_event_loop()\n",
    "\n",
    "try:\n",
    "    # Create a single browser instance outside the loop\n",
    "    browser = loop.run_until_complete(launch(headless=False, ignoreHTTPSErrors=True))\n",
    "\n",
    "    # Assuming people_owners_list contains your list of person owner objects\n",
    "    for person_owner in people_owners_list[:5]:  # Loop through the first 5 person owner objects\n",
    "        first_name = person_owner.first_name\n",
    "        last_name = person_owner.last_name\n",
    "        city = person_owner.city\n",
    "        state = person_owner.state\n",
    "\n",
    "        PROXY_USERNAME = 'scraperapi'\n",
    "        PROXY_PASSWORD = '27b22388a69f09fa1c94117e631357e7'\n",
    "        \n",
    "        # Create a new page for each search\n",
    "        page = loop.run_until_complete(browser.newPage())\n",
    "        await page.authenticate({'username': PROXY_USERNAME, 'password': PROXY_PASSWORD})\n",
    "        \n",
    "        try:\n",
    "            search_url = f'https://www.intelius.com/results/?firstName={first_name}&lastName={last_name}&city={city}&state={state}'\n",
    "            await page.goto(search_url, {'timeout': 180000})\n",
    "\n",
    "            \n",
    "            # Check if the #people selector is present\n",
    "            if await page.querySelector('#people'):\n",
    "                await page.waitForSelector('#people', {'timeout': 30000})\n",
    "            else: # if people selector isnt present check for the \"We've located ....\" pop-up box\"\n",
    "                # Check if the popup selector is present\n",
    "                if await page.querySelector('#page-results > aside.intro-modal > p.intro-modal-heading > span'):\n",
    "                    # Click the selector\n",
    "                    await page.click('#page-results > aside.intro-modal > p.intro-modal-heading > span')\n",
    "                    await page.waitForSelector('#people', {'timeout': 30000})\n",
    "        \n",
    "        \n",
    "            await asyncio.sleep(2)\n",
    "\n",
    "            name = await page.evaluate('document.querySelector(\"#people > div > div > ul > li.name\").textContent.trim()')\n",
    "            age = await page.evaluate('document.querySelector(\"#people > div > div > ul > li.age\").textContent.trim()')\n",
    "            location = await page.evaluate('document.querySelector(\"#people > div > div > ul > li.location\").textContent.trim()')\n",
    "\n",
    "            # Clean up extracted text\n",
    "            name = name.replace('\\t', '').replace('\\n', '')\n",
    "            age = age.replace('\\t', '').replace('\\n', '')\n",
    "            location = location.replace('\\t', '').replace('\\n', '')\n",
    "\n",
    "            result = {'name': name, 'age': age, 'location': location}\n",
    "            print(result)\n",
    "        \n",
    "        finally:\n",
    "            await page.close()  # Close the page after each search\n",
    "        \n",
    "    # Close the browser after all searches are complete\n",
    "finally:\n",
    "    loop.run_until_complete(browser.close())\n",
    "\n",
    "# Close the event loop\n",
    "loop.close()\n"
   ]
  },
  {
   "cell_type": "code",
   "execution_count": null,
   "metadata": {},
   "outputs": [],
   "source": [
    "#iterate through the personal_info ages and seperate into above and below 70\n",
    "# Create two lists: OwnersOver70 and Owners70AndUnder\n",
    "OwnersOver70 = []\n",
    "Owners70AndUnder = []\n",
    "\n",
    "# Iterate through all the people_owners\n",
    "for owner in people_owners:\n",
    "    # age is stored as an attribute in the PersonalInfo object\n",
    "    age = owner.personal_info.age\n",
    "    \n",
    "    # Check if age is greater than 70\n",
    "    if age is not None and age > 70:\n",
    "        OwnersOver70.append(owner)\n",
    "    else:\n",
    "        Owners70AndUnder.append(owner)\n"
   ]
  },
  {
   "cell_type": "code",
   "execution_count": null,
   "metadata": {},
   "outputs": [],
   "source": []
  },
  {
   "cell_type": "code",
   "execution_count": null,
   "metadata": {},
   "outputs": [],
   "source": []
  },
  {
   "cell_type": "code",
   "execution_count": null,
   "metadata": {},
   "outputs": [],
   "source": []
  },
  {
   "cell_type": "code",
   "execution_count": null,
   "metadata": {},
   "outputs": [],
   "source": []
  },
  {
   "cell_type": "code",
   "execution_count": null,
   "metadata": {},
   "outputs": [],
   "source": []
  },
  {
   "cell_type": "code",
   "execution_count": null,
   "metadata": {},
   "outputs": [],
   "source": []
  },
  {
   "cell_type": "code",
   "execution_count": null,
   "metadata": {},
   "outputs": [],
   "source": []
  },
  {
   "cell_type": "code",
   "execution_count": null,
   "metadata": {},
   "outputs": [],
   "source": []
  },
  {
   "cell_type": "code",
   "execution_count": null,
   "metadata": {},
   "outputs": [],
   "source": []
  },
  {
   "cell_type": "code",
   "execution_count": null,
   "metadata": {},
   "outputs": [],
   "source": []
  },
  {
   "cell_type": "code",
   "execution_count": null,
   "metadata": {},
   "outputs": [],
   "source": []
  },
  {
   "cell_type": "code",
   "execution_count": null,
   "metadata": {},
   "outputs": [],
   "source": []
  },
  {
   "cell_type": "code",
   "execution_count": null,
   "metadata": {},
   "outputs": [],
   "source": []
  },
  {
   "cell_type": "markdown",
   "metadata": {},
   "source": [
    "Iterate through the people_owners_list and search each owner on PeopleFinder.com"
   ]
  },
  {
   "cell_type": "markdown",
   "metadata": {},
   "source": [
    "PeopleFinder.com\n",
    "\n",
    "\n",
    "----------------\n",
    "1. Search PeopleFinder.com using owner's first and last name and city and state\n",
    "2. Navigate to Personal section\n",
    "3. Read and store first, middle and last namae in PersonalInfo Object\n",
    "4. Read in and store birth information: age and born\n",
    "5. Read in death information: Death date\n",
    "6. Navigate to location history \n",
    "\n",
    "1. Search PeopleFinder.com using owner's street address, city, state, and zipcode\n",
    "2. Navigate to Residents section\n",
    "3. Check possible residents' names of address searched and see if the last name matches first\n",
    "3. If last name is found then check if the first name matches - stroe the whole name in the PersonalInfo object\n",
    "4. If the first and last name match the owner name then check the age of the person and store in PersonalInfo object\n",
    "5. Navigate to ownership section\n",
    "6. Open Ownership Hisotry tab\n",
    "7. Read ownership history and see if the owner is the most recent owner/current owner - store the date of ownership of property in the PersonalInfo object\n",
    "\n",
    "PersonalInfo object: \n",
    "    Name:\n",
    "    Age: \n",
    "    Born: \n",
    "    Property Ownership History: \n",
    "    Current owner of property: yes or no"
   ]
  },
  {
   "cell_type": "markdown",
   "metadata": {},
   "source": [
    "SEARCH BY NAME - PeopleFinder.com using owner's name, city, state, and zipcode"
   ]
  },
  {
   "cell_type": "code",
   "execution_count": null,
   "metadata": {},
   "outputs": [],
   "source": []
  },
  {
   "cell_type": "code",
   "execution_count": null,
   "metadata": {},
   "outputs": [],
   "source": []
  },
  {
   "cell_type": "code",
   "execution_count": null,
   "metadata": {},
   "outputs": [],
   "source": []
  },
  {
   "cell_type": "code",
   "execution_count": null,
   "metadata": {},
   "outputs": [],
   "source": []
  },
  {
   "cell_type": "markdown",
   "metadata": {},
   "source": []
  },
  {
   "cell_type": "code",
   "execution_count": null,
   "metadata": {},
   "outputs": [],
   "source": []
  },
  {
   "cell_type": "code",
   "execution_count": null,
   "metadata": {},
   "outputs": [],
   "source": []
  },
  {
   "cell_type": "code",
   "execution_count": null,
   "metadata": {},
   "outputs": [],
   "source": []
  },
  {
   "cell_type": "code",
   "execution_count": null,
   "metadata": {},
   "outputs": [],
   "source": []
  },
  {
   "cell_type": "code",
   "execution_count": null,
   "metadata": {},
   "outputs": [],
   "source": []
  },
  {
   "cell_type": "code",
   "execution_count": null,
   "metadata": {},
   "outputs": [],
   "source": []
  },
  {
   "cell_type": "code",
   "execution_count": null,
   "metadata": {},
   "outputs": [],
   "source": []
  },
  {
   "cell_type": "code",
   "execution_count": null,
   "metadata": {},
   "outputs": [],
   "source": []
  },
  {
   "cell_type": "code",
   "execution_count": null,
   "metadata": {},
   "outputs": [],
   "source": []
  },
  {
   "cell_type": "code",
   "execution_count": null,
   "metadata": {},
   "outputs": [],
   "source": []
  },
  {
   "cell_type": "code",
   "execution_count": null,
   "metadata": {},
   "outputs": [],
   "source": []
  },
  {
   "cell_type": "code",
   "execution_count": null,
   "metadata": {},
   "outputs": [],
   "source": []
  },
  {
   "cell_type": "code",
   "execution_count": null,
   "metadata": {},
   "outputs": [],
   "source": []
  },
  {
   "cell_type": "code",
   "execution_count": null,
   "metadata": {},
   "outputs": [],
   "source": []
  },
  {
   "cell_type": "code",
   "execution_count": null,
   "metadata": {},
   "outputs": [],
   "source": []
  },
  {
   "cell_type": "code",
   "execution_count": null,
   "metadata": {},
   "outputs": [],
   "source": []
  },
  {
   "cell_type": "code",
   "execution_count": null,
   "metadata": {},
   "outputs": [],
   "source": []
  },
  {
   "cell_type": "code",
   "execution_count": null,
   "metadata": {},
   "outputs": [],
   "source": []
  },
  {
   "cell_type": "code",
   "execution_count": null,
   "metadata": {},
   "outputs": [],
   "source": []
  }
 ],
 "metadata": {
  "kernelspec": {
   "display_name": "Python [conda env:JRenv] *",
   "language": "python",
   "name": "conda-env-JRenv-py"
  },
  "language_info": {
   "codemirror_mode": {
    "name": "ipython",
    "version": 3
   },
   "file_extension": ".py",
   "mimetype": "text/x-python",
   "name": "python",
   "nbconvert_exporter": "python",
   "pygments_lexer": "ipython3",
   "version": "3.11.3"
  }
 },
 "nbformat": 4,
 "nbformat_minor": 4
}
